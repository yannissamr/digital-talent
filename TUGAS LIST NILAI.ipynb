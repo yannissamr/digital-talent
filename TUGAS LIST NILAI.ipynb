{
 "cells": [
  {
   "cell_type": "markdown",
   "metadata": {},
   "source": [
    "# LATIHAN 2 - Tugas List Nilai\n",
    "\n",
    "Diberikan sekumpulan Nilai Random antara 0 sampai dengan 100 sebanyak 250 nilai. Buatlah program untuk melakukan hal berikut:\n",
    "1. Tampilkan angka ganjil dari ke 250 nilai tersebut\n",
    "2. Tampilkan berapa banyak yang mendapatkan nilai lebih dari 70\n",
    "3. Tampilkan standar deviasi dari sekumpulan nilai tersebut\n",
    "4. Tampilkan nilai maksimum dan minimum\n",
    "5. Tampilkan modus dari sekumpulan nilai tersebut"
   ]
  },
  {
   "cell_type": "code",
   "execution_count": 1,
   "metadata": {},
   "outputs": [
    {
     "name": "stdout",
     "output_type": "stream",
     "text": [
      "DAFTAR NILAI TUGAS: [59, 27, 53, 84, 91, 19, 2, 72, 35, 69, 70, 45, 37, 78, 80, 83, 74, 1, 24, 15, 80, 59, 19, 9, 17, 31, 95, 64, 9, 49, 18, 95, 31, 97, 48, 58, 56, 10, 40, 46, 96, 29, 9, 4, 46, 17, 42, 58, 93, 84, 72, 79, 11, 49, 59, 98, 24, 75, 71, 33, 55, 73, 21, 87, 63, 49, 42, 6, 31, 10, 32, 29, 11, 60, 79, 4, 86, 48, 14, 32, 69, 60, 27, 68, 46, 3, 99, 69, 96, 40, 76, 87, 8, 11, 90, 82, 98, 5, 91, 6, 69, 64, 2, 89, 8, 25, 51, 77, 17, 94, 18, 67, 5, 54, 2, 18, 88, 22, 32, 23, 89, 7, 72, 39, 50, 9, 87, 81, 33, 14, 88, 79, 87, 33, 30, 10, 11, 2, 28, 7, 18, 24, 17, 20, 77, 12, 93, 86, 92, 39, 14, 53, 88, 63, 40, 42, 80, 15, 48, 9, 93, 16, 12, 5, 47, 52, 44, 53, 35, 91, 80, 46, 39, 93, 6, 28, 41, 79, 73, 44, 15, 25, 73, 70, 81, 12, 97, 41, 22, 36, 55, 55, 98, 48, 14, 29, 27, 1, 24, 82, 12, 86, 70, 41, 81, 25, 72, 84, 5, 23, 99, 1, 54, 31, 81, 56, 61, 27, 20, 62, 94, 82, 6, 11, 80, 35, 63, 22, 53, 79, 62, 63, 51, 53, 80, 63, 23, 31, 86, 52, 40, 71, 48, 62, 89, 74, 86, 23, 38, 40]\n"
     ]
    }
   ],
   "source": [
    "import random\n",
    "\n",
    "# GENERATE RANDOM\n",
    "nilaiTugas = []\n",
    "jumlahData = 250\n",
    "for i in range(250):\n",
    "    nilaiTugas.append(random.randrange(1,100,1))\n",
    "\n",
    "print('DAFTAR NILAI TUGAS:', nilaiTugas)"
   ]
  },
  {
   "cell_type": "code",
   "execution_count": 2,
   "metadata": {},
   "outputs": [
    {
     "name": "stdout",
     "output_type": "stream",
     "text": [
      "DAFTAR NILAI TUGAS BERANGKA GANJIL: [59, 27, 53, 91, 19, 35, 69, 45, 37, 83, 1, 15, 59, 19, 9, 17, 31, 95, 9, 49, 95, 31, 97, 29, 9, 17, 93, 79, 11, 49, 59, 75, 71, 33, 55, 73, 21, 87, 63, 49, 31, 29, 11, 79, 69, 27, 3, 99, 69, 87, 11, 5, 91, 69, 89, 25, 51, 77, 17, 67, 5, 23, 89, 7, 39, 9, 87, 81, 33, 79, 87, 33, 11, 7, 17, 77, 93, 39, 53, 63, 15, 9, 93, 5, 47, 53, 35, 91, 39, 93, 41, 79, 73, 15, 25, 73, 81, 97, 41, 55, 55, 29, 27, 1, 41, 81, 25, 5, 23, 99, 1, 31, 81, 61, 27, 11, 35, 63, 53, 79, 63, 51, 53, 63, 23, 31, 71, 89, 23]\n"
     ]
    }
   ],
   "source": [
    "# Angka Ganjil\n",
    "\n",
    "ganjil = []\n",
    "for n in nilaiTugas:\n",
    "    if n % 2 == 1:\n",
    "        ganjil.append(n)\n",
    "        \n",
    "print('DAFTAR NILAI TUGAS BERANGKA GANJIL:', ganjil)"
   ]
  },
  {
   "cell_type": "code",
   "execution_count": 3,
   "metadata": {},
   "outputs": [
    {
     "name": "stdout",
     "output_type": "stream",
     "text": [
      "TERDAPAT NILAI LEBIH DARI 70 DALAM NILAI TUGAS SEBANYAK: 75\n",
      "TERDAPAT NILAI LEBIH DARI 70 DALAM NILAI TUGAS BERANGKA GANJIL SEBANYAK: 38\n"
     ]
    }
   ],
   "source": [
    "# Nilai lebih dari 70\n",
    "\n",
    "Nilailebih70 = []\n",
    "for y in nilaiTugas:\n",
    "    if y>70:\n",
    "        Nilailebih70.append(y)\n",
    "z = len(Nilailebih70)\n",
    "\n",
    "Nilailebih70ganjil = []\n",
    "for v in ganjil:\n",
    "    if v>70:\n",
    "        Nilailebih70ganjil.append(v)\n",
    "w = len(Nilailebih70ganjil)\n",
    "\n",
    "print('TERDAPAT NILAI LEBIH DARI 70 DALAM NILAI TUGAS SEBANYAK:', z)\n",
    "print('TERDAPAT NILAI LEBIH DARI 70 DALAM NILAI TUGAS BERANGKA GANJIL SEBANYAK:', w)       "
   ]
  },
  {
   "cell_type": "code",
   "execution_count": 4,
   "metadata": {},
   "outputs": [
    {
     "name": "stdout",
     "output_type": "stream",
     "text": [
      "STANDAR DEVIASI: 29.511749753174165\n"
     ]
    }
   ],
   "source": [
    "# STANDARD DEVIASI\n",
    "\n",
    "total = 0\n",
    "for a in nilaiTugas:\n",
    "    total = total + a\n",
    "    \n",
    "rerata = total / len(nilaiTugas)\n",
    "\n",
    "jumlah = 0\n",
    "for a in nilaiTugas:\n",
    "    b = (a - rerata)**2\n",
    "    jumlah = jumlah + b\n",
    "\n",
    "stdv = ( jumlah / (len(nilaiTugas) - 1))**0.5\n",
    "\n",
    "print(\"STANDAR DEVIASI:\", stdv)"
   ]
  },
  {
   "cell_type": "code",
   "execution_count": 5,
   "metadata": {},
   "outputs": [
    {
     "name": "stdout",
     "output_type": "stream",
     "text": [
      "NILAI TERTINGGI PADA NILAI TUGAS: 99\n",
      "NILAI TERENDAH PADA NILAI TUGAS: 1\n"
     ]
    }
   ],
   "source": [
    "# Nilai Maksimum\n",
    "\n",
    "print(\"NILAI TERTINGGI PADA NILAI TUGAS:\", max(nilaiTugas))\n",
    "\n",
    "# Nilai Minimum\n",
    "\n",
    "print(\"NILAI TERENDAH PADA NILAI TUGAS:\", min(nilaiTugas))"
   ]
  },
  {
   "cell_type": "code",
   "execution_count": 6,
   "metadata": {},
   "outputs": [
    {
     "name": "stdout",
     "output_type": "stream",
     "text": [
      "NILAI YANG PALING BANYAK MUNCUL 80 DENGAN FREKUENSI SEBANYAK 6\n"
     ]
    }
   ],
   "source": [
    "# MODUS\n",
    "\n",
    "nilai = []\n",
    "for j in nilaiTugas:\n",
    "    if j not in nilai:\n",
    "        nilai.append(j)\n",
    "\n",
    "k = len(nilai)\n",
    "for l in range(k-1,0,-1):\n",
    "    for j in range (l):\n",
    "        if nilai[j] > nilai [j+1]:\n",
    "            temp = nilai[j]\n",
    "            nilai[j] = nilai [j+1]\n",
    "            nilai[j+1] = temp\n",
    "\n",
    "freq = []\n",
    "freq_mode = 0\n",
    "m = len(nilaiTugas)\n",
    "for j in range(0,k):\n",
    "    freq.append(0)\n",
    "    for o in range(0,m):\n",
    "        if nilai[j] == nilaiTugas[o]:\n",
    "            freq[j] = freq[j]+1\n",
    "    if freq[j] > freq_mode:\n",
    "        freq_mode = freq[j]\n",
    "        mode = nilai[j]\n",
    "\n",
    "print(\"NILAI YANG PALING BANYAK MUNCUL\", mode, \"DENGAN FREKUENSI SEBANYAK\", freq_mode)"
   ]
  },
  {
   "cell_type": "code",
   "execution_count": null,
   "metadata": {},
   "outputs": [],
   "source": []
  }
 ],
 "metadata": {
  "kernelspec": {
   "display_name": "Python 3",
   "language": "python",
   "name": "python3"
  },
  "language_info": {
   "codemirror_mode": {
    "name": "ipython",
    "version": 3
   },
   "file_extension": ".py",
   "mimetype": "text/x-python",
   "name": "python",
   "nbconvert_exporter": "python",
   "pygments_lexer": "ipython3",
   "version": "3.7.0"
  }
 },
 "nbformat": 4,
 "nbformat_minor": 2
}
