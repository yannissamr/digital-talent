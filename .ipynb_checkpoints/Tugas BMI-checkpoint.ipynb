{
 "cells": [
  {
   "cell_type": "code",
   "execution_count": 3,
   "metadata": {},
   "outputs": [
    {
     "name": "stdout",
     "output_type": "stream",
     "text": [
      "Your BMI result is 22.86236854138088\n",
      "Based on the result, you are:\n",
      "Normal (healthy weight)\n",
      "Thank you for using this BMI Calculator\n"
     ]
    }
   ],
   "source": [
    "weight_in_kg = 60\n",
    "height_in_cm = 162\n",
    "\n",
    "BMI = weight_in_kg / (height_in_cm/100) ** 2\n",
    "print(\"Your BMI result is\", BMI)\n",
    "print(\"Based on the result, you are:\")\n",
    "\n",
    "if BMI>=18.5 and BMI<25:\n",
    "    print(\"Normal (healthy weight)\")\n",
    "elif BMI<15:\n",
    "    print(\"Very Severely Underweight\")\n",
    "elif BMI>=15 and BMI<16:\n",
    "    print(\"Severely Underweight\")\n",
    "elif BMI>=16 and BMI<18.5:\n",
    "    print(\"Underweight\")\n",
    "elif BMI>=25 and BMI<30:\n",
    "    print(\"Overweight\")\n",
    "elif BMI>=30 and BMI<35:\n",
    "    print(\"Moderately Obese\")\n",
    "elif BMI>=35 and BMI<40:\n",
    "    print(\"Severely Obese\")\n",
    "elif BMI>=40:\n",
    "    print(\"Very Severely Obese\")\n",
    "\n",
    "print(\"Thank you for using this BMI Calculator\")"
   ]
  },
  {
   "cell_type": "code",
   "execution_count": null,
   "metadata": {},
   "outputs": [],
   "source": []
  }
 ],
 "metadata": {
  "kernelspec": {
   "display_name": "Python 3",
   "language": "python",
   "name": "python3"
  },
  "language_info": {
   "codemirror_mode": {
    "name": "ipython",
    "version": 3
   },
   "file_extension": ".py",
   "mimetype": "text/x-python",
   "name": "python",
   "nbconvert_exporter": "python",
   "pygments_lexer": "ipython3",
   "version": "3.7.0"
  }
 },
 "nbformat": 4,
 "nbformat_minor": 2
}
